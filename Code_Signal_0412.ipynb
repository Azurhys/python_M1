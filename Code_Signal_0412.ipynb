{
 "cells": [
  {
   "cell_type": "markdown",
   "id": "58826a6b-b4c2-472e-9d19-e547530eab75",
   "metadata": {},
   "source": [
    "# Meet Python"
   ]
  },
  {
   "cell_type": "markdown",
   "id": "d70a7a8f-4af1-4953-a519-3f52033ce51a",
   "metadata": {},
   "source": [
    "### Fix Message"
   ]
  },
  {
   "cell_type": "code",
   "execution_count": 3,
   "id": "97ff087c-5e62-44d8-8cc9-ef8e54be7ccc",
   "metadata": {},
   "outputs": [
    {
     "data": {
      "text/plain": [
       "' CoUcOU AntOINe'"
      ]
     },
     "execution_count": 3,
     "metadata": {},
     "output_type": "execute_result"
    }
   ],
   "source": [
    "message = \" CoUcOU AntOINe\"\n",
    "def solution(message):\n",
    "    return message.capitalize()\n",
    "message"
   ]
  },
  {
   "cell_type": "markdown",
   "id": "eeea9fa3-d273-4707-bbb5-f6318f929016",
   "metadata": {},
   "source": [
    "### Cat Walk"
   ]
  },
  {
   "cell_type": "code",
   "execution_count": 9,
   "id": "38eda942-208d-49a3-9ee2-4a14d08377b5",
   "metadata": {},
   "outputs": [
    {
     "name": "stdout",
     "output_type": "stream",
     "text": [
      "Acc i de nt\n"
     ]
    }
   ],
   "source": [
    "code = \"Acc i       de nt\"\n",
    "def solution(code):\n",
    "    return \" \".join(code.split())\n",
    "print(solution(code))"
   ]
  },
  {
   "cell_type": "markdown",
   "id": "eccf7a03-88f1-4c50-a4fd-3ab6c7d45061",
   "metadata": {},
   "source": [
    "### Convert Tabs"
   ]
  },
  {
   "cell_type": "code",
   "execution_count": 10,
   "id": "c5dbf438-41cf-4ecc-8a36-518d4cccf703",
   "metadata": {},
   "outputs": [
    {
     "name": "stdout",
     "output_type": "stream",
     "text": [
      "    return False\n"
     ]
    }
   ],
   "source": [
    "code = \"\\treturn False\"\n",
    "x = 4\n",
    "def solution(code, x):\n",
    "    return code.replace(\"\\t\",\" \"*x)\n",
    "print(solution(code, x))"
   ]
  },
  {
   "cell_type": "markdown",
   "id": "d0dd9202-d219-4539-a6c6-43b531949c2a",
   "metadata": {},
   "source": [
    "### Feedback Review"
   ]
  },
  {
   "cell_type": "code",
   "execution_count": 12,
   "id": "714ffa30-4618-4c66-a35d-29657c95502e",
   "metadata": {},
   "outputs": [
    {
     "name": "stdout",
     "output_type": "stream",
     "text": [
      "['This is', 'an', 'example', 'feedback']\n"
     ]
    }
   ],
   "source": [
    "import textwrap\n",
    "feedback = \"This is an example feedback\"\n",
    "size = 8\n",
    "def solution(feedback, size):\n",
    "    return textwrap.wrap(feedback, size, break_long_words=False)\n",
    "print(solution(feedback, size))"
   ]
  },
  {
   "cell_type": "markdown",
   "id": "eb370c13-21c6-498e-af7a-a85e34f5e2e1",
   "metadata": {},
   "source": [
    "### Is Word Palindrome"
   ]
  },
  {
   "cell_type": "code",
   "execution_count": 13,
   "id": "0fac3487-e3b0-4700-9d65-a3b176a343b1",
   "metadata": {},
   "outputs": [
    {
     "name": "stdout",
     "output_type": "stream",
     "text": [
      "True\n"
     ]
    }
   ],
   "source": [
    "word = \"aibohphobia\"\n",
    "def solution(word):\n",
    "    return word == word[::-1]\n",
    "print(solution(word))"
   ]
  },
  {
   "cell_type": "markdown",
   "id": "cf8ade48-4172-47b5-b437-6bb9f266b712",
   "metadata": {},
   "source": [
    "### Permutation Cipher"
   ]
  },
  {
   "cell_type": "code",
   "execution_count": 14,
   "id": "e2a59f7b-0bbd-4d49-8e66-3527f86ff564",
   "metadata": {},
   "outputs": [
    {
     "name": "stdout",
     "output_type": "stream",
     "text": [
      "hzlsgdadrs\n"
     ]
    }
   ],
   "source": [
    "password = \"iamthebest\"\n",
    "key = \"zabcdefghijklmnopqrstuvwxy\"\n",
    "def solution(password, key):\n",
    "    table = str.maketrans('abcdefghijklmnopqrstuvwxyz', key)\n",
    "    return password.translate(table)\n",
    "print(solution(password, key))"
   ]
  },
  {
   "cell_type": "markdown",
   "id": "2402be56-89a9-47ec-b5f0-fa32dcb06b82",
   "metadata": {},
   "source": [
    "### New Style Formating WIP "
   ]
  },
  {
   "cell_type": "code",
   "execution_count": 15,
   "id": "f535e653-0ea0-4be2-a581-5f2c9c447621",
   "metadata": {},
   "outputs": [],
   "source": [
    "def solution(s):\n",
    "    old_style_placeholders = re.findall(r'%[a-zA-Z]%', s)\n",
    "    new_style_string = re.sub(r'%[a-zA-Z%]', '{}', s)\n",
    "    return new_style_string"
   ]
  },
  {
   "cell_type": "code",
   "execution_count": null,
   "id": "dca3b960-5623-4078-8f4b-66ea634f5d2e",
   "metadata": {},
   "outputs": [],
   "source": []
  },
  {
   "cell_type": "code",
   "execution_count": null,
   "id": "5f3fd596-7828-4189-ba03-995d11739249",
   "metadata": {},
   "outputs": [],
   "source": []
  },
  {
   "cell_type": "code",
   "execution_count": null,
   "id": "f0a1bc05-ffe5-4396-9b12-411b66a85d16",
   "metadata": {},
   "outputs": [],
   "source": []
  },
  {
   "cell_type": "code",
   "execution_count": null,
   "id": "945ff67e-4e8b-4679-89e3-973b84be7d8c",
   "metadata": {},
   "outputs": [],
   "source": []
  }
 ],
 "metadata": {
  "kernelspec": {
   "display_name": "Python 3 (ipykernel)",
   "language": "python",
   "name": "python3"
  },
  "language_info": {
   "codemirror_mode": {
    "name": "ipython",
    "version": 3
   },
   "file_extension": ".py",
   "mimetype": "text/x-python",
   "name": "python",
   "nbconvert_exporter": "python",
   "pygments_lexer": "ipython3",
   "version": "3.10.11"
  }
 },
 "nbformat": 4,
 "nbformat_minor": 5
}
